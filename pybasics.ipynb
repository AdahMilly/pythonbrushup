{
 "cells": [
  {
   "cell_type": "code",
   "execution_count": 1,
   "id": "44a9459c",
   "metadata": {},
   "outputs": [
    {
     "name": "stdout",
     "output_type": "stream",
     "text": [
      "Hey Ma\n"
     ]
    }
   ],
   "source": [
    "# variables - used to assign/store values.Example;\n",
    "message = \"Hey Ma\"\n",
    "print(message)"
   ]
  },
  {
   "cell_type": "code",
   "execution_count": 3,
   "id": "5b230635",
   "metadata": {},
   "outputs": [
    {
     "name": "stdout",
     "output_type": "stream",
     "text": [
      "Dani\n"
     ]
    }
   ],
   "source": [
    "# strings -anything inside a single/double quote,they are immutable.\n",
    "name = \"Dani\"\n",
    "print(name)\n"
   ]
  },
  {
   "cell_type": "code",
   "execution_count": 4,
   "id": "6d085281",
   "metadata": {},
   "outputs": [],
   "source": [
    "# multiline strings\n",
    "food = '''\n",
    "\n",
    "'''"
   ]
  },
  {
   "cell_type": "code",
   "execution_count": 6,
   "id": "3f352bf5",
   "metadata": {},
   "outputs": [
    {
     "name": "stdout",
     "output_type": "stream",
     "text": [
      "r\n"
     ]
    }
   ],
   "source": [
    "# accessing strings,index starts at 0\n",
    "toolkit = 'react query'\n",
    "print(toolkit[0])"
   ]
  },
  {
   "cell_type": "code",
   "execution_count": 7,
   "id": "5c974d4b",
   "metadata": {},
   "outputs": [
    {
     "name": "stdout",
     "output_type": "stream",
     "text": [
      "goodmorning\n"
     ]
    }
   ],
   "source": [
    "# concatinating strings/use +\n",
    "greeting = 'good' 'morning'\n",
    "print(greeting)"
   ]
  },
  {
   "cell_type": "code",
   "execution_count": 8,
   "id": "cac33843",
   "metadata": {},
   "outputs": [
    {
     "data": {
      "text/plain": [
       "12"
      ]
     },
     "execution_count": 8,
     "metadata": {},
     "output_type": "execute_result"
    }
   ],
   "source": [
    "# getting len a string\n",
    "greeting = 'good morning'\n",
    "len(greeting)"
   ]
  },
  {
   "cell_type": "code",
   "execution_count": 10,
   "id": "88be7cf1",
   "metadata": {},
   "outputs": [
    {
     "name": "stdout",
     "output_type": "stream",
     "text": [
      "hel\n"
     ]
    }
   ],
   "source": [
    "# slcing a str\n",
    "greeting = 'hello'\n",
    "print(greeting[0:3])"
   ]
  },
  {
   "cell_type": "code",
   "execution_count": null,
   "id": "b063660d",
   "metadata": {},
   "outputs": [],
   "source": []
  }
 ],
 "metadata": {
  "kernelspec": {
   "display_name": "Python 3 (ipykernel)",
   "language": "python",
   "name": "python3"
  },
  "language_info": {
   "codemirror_mode": {
    "name": "ipython",
    "version": 3
   },
   "file_extension": ".py",
   "mimetype": "text/x-python",
   "name": "python",
   "nbconvert_exporter": "python",
   "pygments_lexer": "ipython3",
   "version": "3.9.12"
  }
 },
 "nbformat": 4,
 "nbformat_minor": 5
}
