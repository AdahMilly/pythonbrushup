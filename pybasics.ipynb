{
 "cells": [
  {
   "cell_type": "code",
   "execution_count": 1,
   "id": "44a9459c",
   "metadata": {},
   "outputs": [
    {
     "name": "stdout",
     "output_type": "stream",
     "text": [
      "Hey Ma\n"
     ]
    }
   ],
   "source": [
    "# variables - used to assign/store values.Example;\n",
    "message = \"Hey Ma\"\n",
    "print(message)"
   ]
  },
  {
   "cell_type": "code",
   "execution_count": 3,
   "id": "5b230635",
   "metadata": {},
   "outputs": [
    {
     "name": "stdout",
     "output_type": "stream",
     "text": [
      "Dani\n"
     ]
    }
   ],
   "source": [
    "# strings -anything inside a single/double quote,they are immutable.\n",
    "name = \"Dani\"\n",
    "print(name)\n"
   ]
  },
  {
   "cell_type": "code",
   "execution_count": 4,
   "id": "6d085281",
   "metadata": {},
   "outputs": [],
   "source": [
    "# multiline strings\n",
    "food = '''\n",
    "\n",
    "'''"
   ]
  },
  {
   "cell_type": "code",
   "execution_count": 6,
   "id": "3f352bf5",
   "metadata": {},
   "outputs": [
    {
     "name": "stdout",
     "output_type": "stream",
     "text": [
      "r\n"
     ]
    }
   ],
   "source": [
    "# accessing strings,index starts at 0\n",
    "toolkit = 'react query'\n",
    "print(toolkit[0])"
   ]
  },
  {
   "cell_type": "code",
   "execution_count": 7,
   "id": "5c974d4b",
   "metadata": {},
   "outputs": [
    {
     "name": "stdout",
     "output_type": "stream",
     "text": [
      "goodmorning\n"
     ]
    }
   ],
   "source": [
    "# concatinating strings/use +\n",
    "greeting = 'good' 'morning'\n",
    "print(greeting)"
   ]
  },
  {
   "cell_type": "code",
   "execution_count": 8,
   "id": "cac33843",
   "metadata": {},
   "outputs": [
    {
     "data": {
      "text/plain": [
       "12"
      ]
     },
     "execution_count": 8,
     "metadata": {},
     "output_type": "execute_result"
    }
   ],
   "source": [
    "# getting len a string\n",
    "greeting = 'good morning'\n",
    "len(greeting)"
   ]
  },
  {
   "cell_type": "code",
   "execution_count": 10,
   "id": "88be7cf1",
   "metadata": {},
   "outputs": [
    {
     "name": "stdout",
     "output_type": "stream",
     "text": [
      "hel\n"
     ]
    }
   ],
   "source": [
    "# slcing a str\n",
    "greeting = 'hello'\n",
    "print(greeting[0:3])"
   ]
  },
  {
   "cell_type": "code",
   "execution_count": null,
   "id": "b063660d",
   "metadata": {},
   "outputs": [],
   "source": [
    "# logical operators and,or,not\n",
    "# precedence called is not,and,or"
   ]
  },
  {
   "cell_type": "code",
   "execution_count": 1,
   "id": "b029e2b8",
   "metadata": {},
   "outputs": [
    {
     "name": "stdout",
     "output_type": "stream",
     "text": [
      "Enter your age:2\n"
     ]
    }
   ],
   "source": [
    "# if statement-executes if the statement is true,else ignores it.\n",
    "age = input('Enter your age:')\n",
    "if int(age) >= 18:\n",
    "    print(\"You're eligible to vote.\")\n",
    "    print(\"Let's go and vote.\")"
   ]
  },
  {
   "cell_type": "code",
   "execution_count": 2,
   "id": "4fe1bcde",
   "metadata": {},
   "outputs": [
    {
     "name": "stdout",
     "output_type": "stream",
     "text": [
      "Enter your age:40\n",
      "You're eligible to vote.\n",
      "Let's go and vote.\n"
     ]
    }
   ],
   "source": [
    "age = input('Enter your age:')\n",
    "if int(age) >= 18:\n",
    "    print(\"You're eligible to vote.\")\n",
    "    print(\"Let's go and vote.\")"
   ]
  },
  {
   "cell_type": "code",
   "execution_count": 3,
   "id": "c6888345",
   "metadata": {},
   "outputs": [
    {
     "name": "stdout",
     "output_type": "stream",
     "text": [
      "Enter your age:67\n",
      "You're eligible to vote.\n"
     ]
    }
   ],
   "source": [
    "# if else-perform true and false conditions.\n",
    "age = input('Enter your age:')\n",
    "if int(age) >= 18:\n",
    "    print(\"You're eligible to vote.\")\n",
    "else:\n",
    "    print(\"You're not eligible to vote.\")"
   ]
  },
  {
   "cell_type": "code",
   "execution_count": 4,
   "id": "cbe68964",
   "metadata": {},
   "outputs": [
    {
     "name": "stdout",
     "output_type": "stream",
     "text": [
      "Enter your age:6\n",
      "You'll pay $10 for the ticket\n"
     ]
    }
   ],
   "source": [
    "# if,elif,else-check many different conditions.\n",
    "age = input('Enter your age:')\n",
    "\n",
    "your_age = int(age)\n",
    "\n",
    "if your_age < 5:\n",
    "    ticket_price = 5\n",
    "elif your_age < 16:\n",
    "    ticket_price = 10\n",
    "else:\n",
    "    ticket_price = 18\n",
    "\n",
    "print(f\"You'll pay ${ticket_price} for the ticket\")"
   ]
  },
  {
   "cell_type": "code",
   "execution_count": 5,
   "id": "9c75d7a2",
   "metadata": {},
   "outputs": [
    {
     "name": "stdout",
     "output_type": "stream",
     "text": [
      "Enter your age:16\n",
      "The ticket price is 5\n"
     ]
    }
   ],
   "source": [
    "# ternary operator -condition ? value_if_true : value_if_false\n",
    "age = input('Enter your age:')\n",
    "\n",
    "ticket_price = 20 if int(age) >= 18 else 5\n",
    "\n",
    "print(f\"The ticket price is {ticket_price}\")"
   ]
  },
  {
   "cell_type": "code",
   "execution_count": null,
   "id": "6094fdb7",
   "metadata": {},
   "outputs": [],
   "source": []
  }
 ],
 "metadata": {
  "kernelspec": {
   "display_name": "Python 3 (ipykernel)",
   "language": "python",
   "name": "python3"
  },
  "language_info": {
   "codemirror_mode": {
    "name": "ipython",
    "version": 3
   },
   "file_extension": ".py",
   "mimetype": "text/x-python",
   "name": "python",
   "nbconvert_exporter": "python",
   "pygments_lexer": "ipython3",
   "version": "3.9.12"
  }
 },
 "nbformat": 4,
 "nbformat_minor": 5
}
